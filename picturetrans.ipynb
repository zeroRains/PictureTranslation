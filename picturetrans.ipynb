{
 "cells": [
  {
   "cell_type": "code",
   "execution_count": 1,
   "metadata": {
    "ExecuteTime": {
     "end_time": "2020-09-07T04:07:25.820874Z",
     "start_time": "2020-09-07T04:07:24.892352Z"
    },
    "colab": {},
    "colab_type": "code",
    "id": "akbnue_JqLiG"
   },
   "outputs": [],
   "source": [
    "import torch\n",
    "import torchvision\n",
    "from torchvision import transforms,models\n",
    "from PIL import Image\n",
    "import matplotlib.pyplot as plt\n",
    "from torch.autograd import Variable\n",
    "import copy\n",
    "import cv2"
   ]
  },
  {
   "cell_type": "code",
   "execution_count": 2,
   "metadata": {
    "ExecuteTime": {
     "end_time": "2020-09-07T04:07:25.920604Z",
     "start_time": "2020-09-07T04:07:25.915616Z"
    },
    "colab": {},
    "colab_type": "code",
    "id": "lF0JStj1qvLL"
   },
   "outputs": [],
   "source": [
    "%matplotlib inline"
   ]
  },
  {
   "cell_type": "markdown",
   "metadata": {},
   "source": [
    "# 定义转化方式和输入函数"
   ]
  },
  {
   "cell_type": "code",
   "execution_count": 3,
   "metadata": {
    "ExecuteTime": {
     "end_time": "2020-09-07T04:07:27.061886Z",
     "start_time": "2020-09-07T04:07:27.057875Z"
    },
    "colab": {},
    "colab_type": "code",
    "id": "L29BtuJrqza7"
   },
   "outputs": [],
   "source": [
    "# 定义转化方式\n",
    "transform = transforms.Compose([transforms.Resize([224,224]),transforms.ToTensor()])"
   ]
  },
  {
   "cell_type": "code",
   "execution_count": 4,
   "metadata": {
    "ExecuteTime": {
     "end_time": "2020-09-07T04:07:27.820625Z",
     "start_time": "2020-09-07T04:07:27.816602Z"
    },
    "colab": {},
    "colab_type": "code",
    "id": "eD07MrlorMF5"
   },
   "outputs": [],
   "source": [
    "# 读取图片\n",
    "def loading(path = None):\n",
    "  img = Image.open(path)\n",
    "  img = transform(img)\n",
    "  # 提高维度\n",
    "  img = img.unsqueeze(0)\n",
    "  return img"
   ]
  },
  {
   "cell_type": "markdown",
   "metadata": {},
   "source": [
    "# 导入内容图和损失图"
   ]
  },
  {
   "cell_type": "code",
   "execution_count": 5,
   "metadata": {
    "ExecuteTime": {
     "end_time": "2020-09-07T04:07:31.225268Z",
     "start_time": "2020-09-07T04:07:29.115713Z"
    },
    "colab": {},
    "colab_type": "code",
    "id": "AB0FxQjerMZh"
   },
   "outputs": [],
   "source": [
    "# 选择内容图片和风格图片\n",
    "content_name = \"1.jpg\"\n",
    "style_name = \"2.jpg\"\n",
    "content_img = loading(\"./content/\"+content_name)\n",
    "content_img = Variable(content_img).cuda()\n",
    "styple_img = loading(\"./style/\"+style_name)\n",
    "styple_img = Variable(styple_img).cuda()"
   ]
  },
  {
   "cell_type": "markdown",
   "metadata": {},
   "source": [
    "# 定义损失值和格拉姆矩阵\n",
    "* MSE:$\\sum_{i=0}^n(yHat^i-y^i)^2$"
   ]
  },
  {
   "cell_type": "code",
   "execution_count": 6,
   "metadata": {
    "ExecuteTime": {
     "end_time": "2020-09-07T04:07:31.387834Z",
     "start_time": "2020-09-07T04:07:31.380851Z"
    },
    "colab": {},
    "colab_type": "code",
    "id": "OHG9Q-WBrMcJ"
   },
   "outputs": [],
   "source": [
    "# 图像内容损失\n",
    "class Content_loss(torch.nn.Module):\n",
    "    # target是通过卷积获取的输入图像中的内容，weight是我们设置的权重参数\n",
    "    def __init__(self,weight,target):\n",
    "        super(Content_loss,self).__init__()\n",
    "        self.weight = weight\n",
    "        # 用于对提取到的内容进行锁定，不需要进行梯度\n",
    "        self.target = target.detach()*weight\n",
    "        self.loss_fn = torch.nn.MSELoss()\n",
    "        \n",
    "    \n",
    "    def forward(self,input):\n",
    "        # input是卷积层中输入的图像\n",
    "        self.loss = self.loss_fn(input*self.weight,self.target)\n",
    "        return input\n",
    "    \n",
    "    def backward(self):\n",
    "        # 保留计算图（中间变量保存下来，便于对style_loss进行计算）\n",
    "        self.loss.backward(retain_graph=True)\n",
    "        return self.loss"
   ]
  },
  {
   "cell_type": "code",
   "execution_count": 7,
   "metadata": {
    "ExecuteTime": {
     "end_time": "2020-09-07T04:07:32.455547Z",
     "start_time": "2020-09-07T04:07:32.450560Z"
    },
    "colab": {},
    "colab_type": "code",
    "id": "uAtgcAHFrMer"
   },
   "outputs": [],
   "source": [
    "# 格拉姆矩阵的解析：https://www.cnblogs.com/yifanrensheng/p/12862174.html\n",
    "# 作用：提取风格图片的风格\n",
    "class Gram_matrix(torch.nn.Module):\n",
    "    def forward(self,input):\n",
    "        a,b,c,d = input.size()\n",
    "        feature = input.view(a*b,c*d)\n",
    "        gram = torch.mm(feature,feature.t())\n",
    "        return gram.div(a*b*c*d)"
   ]
  },
  {
   "cell_type": "code",
   "execution_count": 8,
   "metadata": {
    "ExecuteTime": {
     "end_time": "2020-09-07T04:07:33.292908Z",
     "start_time": "2020-09-07T04:07:33.286924Z"
    },
    "colab": {},
    "colab_type": "code",
    "id": "DXnWKN-FrMhC"
   },
   "outputs": [],
   "source": [
    "# 图像风格损失\n",
    "class Style_loss(torch.nn.Module):\n",
    "    def __init__(self,weight,target):\n",
    "        super(Style_loss,self).__init__()\n",
    "        self.weight = weight\n",
    "        self.target = target.detach()*weight\n",
    "        self.loss_fn = torch.nn.MSELoss()\n",
    "        self.gram = Gram_matrix()\n",
    "    \n",
    "    def forward(self,input):\n",
    "        self.Gram = self.gram(input.clone())\n",
    "        self.Gram.mul_(self.weight)\n",
    "        self.loss = self.loss_fn(self.Gram,self.target)\n",
    "        return input\n",
    "    \n",
    "    def backward(self):\n",
    "        self.loss.backward(retain_graph=True)\n",
    "        return self.loss"
   ]
  },
  {
   "cell_type": "markdown",
   "metadata": {},
   "source": [
    "# 导入预置网络VGG16"
   ]
  },
  {
   "cell_type": "code",
   "execution_count": 9,
   "metadata": {
    "ExecuteTime": {
     "end_time": "2020-09-07T04:07:37.423315Z",
     "start_time": "2020-09-07T04:07:35.427617Z"
    },
    "colab": {
     "base_uri": "https://localhost:8080/",
     "height": 85,
     "referenced_widgets": [
      "9f88fe92388d4c20a8bc04ad3cf7e924",
      "7fc9a7348f544940b08a24b1ba9d1ccf",
      "e1de2be4586b45c4a4eb89d8db5add64",
      "6002eea3297e4f3399cbbcdb5ef18bbc",
      "8c47f46b4eb2485b9e40128d9926bbba",
      "032d72fcacaa4808b953bd85dae65a90",
      "faac7ec2b6bd464c9492c7b8064acc22",
      "5f52ed3c438d4dc0917f3ac95595bb7a"
     ]
    },
    "colab_type": "code",
    "id": "rJ-JDvgrrMj0",
    "outputId": "ad0ddfbf-b0e7-4bb8-e152-248fc64c169b"
   },
   "outputs": [],
   "source": [
    "# 导入特征提取网络\n",
    "cnn = models.vgg16(pretrained=False)\n",
    "pre = torch.load(\"./model/vgg16-397923af.pth\")\n",
    "cnn.load_state_dict(pre)\n",
    "# 提取VGG16的features部分\n",
    "cnn = cnn.features\n",
    "cnn = cnn.cuda()\n"
   ]
  },
  {
   "cell_type": "code",
   "execution_count": 10,
   "metadata": {
    "ExecuteTime": {
     "end_time": "2020-09-07T04:07:37.911978Z",
     "start_time": "2020-09-07T04:07:37.901004Z"
    },
    "colab": {},
    "colab_type": "code",
    "id": "j4-8CtBGuehf"
   },
   "outputs": [],
   "source": [
    "# 重新创建我们的模型\n",
    "model = copy.deepcopy(cnn)"
   ]
  },
  {
   "cell_type": "markdown",
   "metadata": {},
   "source": [
    "# 对迁移模型初始化"
   ]
  },
  {
   "cell_type": "code",
   "execution_count": 11,
   "metadata": {
    "ExecuteTime": {
     "end_time": "2020-09-07T04:07:38.359779Z",
     "start_time": "2020-09-07T04:07:38.355789Z"
    },
    "colab": {},
    "colab_type": "code",
    "id": "g-eGdCCNueeh"
   },
   "outputs": [],
   "source": [
    "# 提取内容所需要的卷积层\n",
    "content_layer = [\"Conv_3\"]\n",
    "# 提取风格所需要的的卷积层\n",
    "style_layer = [\"Conv_1\",\"Conv_2\",\"Conv_3\",\"Conv_4\"]\n",
    "# 定义内容和风格的损失值，用于控制内容和风格对最后合成图的影响程度\n",
    "content_weight = 10\n",
    "style_weight = 1000"
   ]
  },
  {
   "cell_type": "code",
   "execution_count": 12,
   "metadata": {
    "ExecuteTime": {
     "end_time": "2020-09-07T04:07:39.387525Z",
     "start_time": "2020-09-07T04:07:39.384511Z"
    },
    "colab": {},
    "colab_type": "code",
    "id": "X3muK9FGxTA7"
   },
   "outputs": [],
   "source": [
    "# 存储每一个内容层和风格层的计算图列表\n",
    "content_losses = []\n",
    "style_losses = []"
   ]
  },
  {
   "cell_type": "markdown",
   "metadata": {},
   "source": [
    "# 构建迁移模型"
   ]
  },
  {
   "cell_type": "code",
   "execution_count": 13,
   "metadata": {
    "ExecuteTime": {
     "end_time": "2020-09-07T04:07:41.269894Z",
     "start_time": "2020-09-07T04:07:41.264873Z"
    },
    "colab": {},
    "colab_type": "code",
    "id": "1aw4kBZOuebg"
   },
   "outputs": [],
   "source": [
    "# 创建一个空模型，用来存储我们的迁移模型\n",
    "new_model = torch.nn.Sequential()\n",
    "\n",
    "gram = Gram_matrix()\n",
    "new_model = new_model.cuda()\n",
    "gram = gram.cuda()"
   ]
  },
  {
   "cell_type": "code",
   "execution_count": 14,
   "metadata": {
    "ExecuteTime": {
     "end_time": "2020-09-07T04:07:44.089174Z",
     "start_time": "2020-09-07T04:07:42.180844Z"
    },
    "colab": {},
    "colab_type": "code",
    "id": "itlgIsM6ueYp"
   },
   "outputs": [],
   "source": [
    "# 构建迁移模型\n",
    "index = 1\n",
    "# 从VGG16中提取出前8层来当做风格迁移的特征提取层\n",
    "for layer in list(model)[:8]:\n",
    "  # 如果这一层是我们的Conv2d类型，就将它加入到我们的新模型中\n",
    "  if isinstance(layer,torch.nn.Conv2d):\n",
    "    name = \"Conv_\" +str(index)\n",
    "    new_model.add_module(name,layer)\n",
    "    # 根据选择的层数分配为风格提取和内容提取\n",
    "    if name in content_layer:\n",
    "        # 创建特征提取层，\n",
    "        # 将内容图输入到模型中进行计算，获得卷积得到的feature map\n",
    "      target = new_model(content_img).clone()\n",
    "     # 将控制内容图的权重与feature map 构建内容损失函数对象\n",
    "      content_loss = Content_loss(content_weight,target)\n",
    "    # 将这个对象添加到模型中\n",
    "      new_model.add_module(\"content_loss_\"+str(index),content_loss)\n",
    "    # 记录损失函数计算过程\n",
    "      content_losses.append(content_loss)\n",
    "    \n",
    "    if name in style_layer:\n",
    "    # 将内容图输入到模型中进行计算，获得卷积得到的feature map\n",
    "      target = new_model(styple_img).clone()\n",
    "    # 将这个feature map构建格拉姆矩阵\n",
    "      target = gram(target)\n",
    "    # 实例化风格损失函数\n",
    "      style_loss = Style_loss(style_weight,target)\n",
    "    # 讲风格损失函数对象添加到模型中\n",
    "      new_model.add_module(\"style_loss_\"+str(index),style_loss)\n",
    "    # 记录损失函数计算过程\n",
    "      style_losses.append(style_loss)\n",
    "\n",
    "  if isinstance(layer,torch.nn.ReLU):\n",
    "    # 激活函数正常激活即可\n",
    "    name = \"Relu_\" + str(index)\n",
    "    new_model.add_module(name,layer)\n",
    "    index = index + 1\n",
    "\n",
    "\n",
    "  if isinstance(layer,torch.nn.MaxPool2d):\n",
    "    # 最大池化层也正常池化即可\n",
    "    name = \"MaxPool_\"+str(index)\n",
    "    new_model.add_module(name,layer)"
   ]
  },
  {
   "cell_type": "markdown",
   "metadata": {},
   "source": [
    "# 开始训练"
   ]
  },
  {
   "cell_type": "code",
   "execution_count": 15,
   "metadata": {
    "ExecuteTime": {
     "end_time": "2020-09-07T04:07:44.564903Z",
     "start_time": "2020-09-07T04:07:44.560912Z"
    },
    "colab": {},
    "colab_type": "code",
    "id": "r8AjqxMyueV6"
   },
   "outputs": [],
   "source": [
    "# 获取输入图片，避免在卷积过程中对原图产生影响因此使用了clone\n",
    "input_img = content_img.clone()\n",
    "# 将一个不可训练的tensor类型转化成可训练的Parameter类型，从而使得在训练过程中对input_img进行风格修改\n",
    "parameter = torch.nn.Parameter(input_img.data)\n",
    "# LBFGS也是一种优化方法，他最大的优点就在于它能够写出一个closure函数，\n",
    "# 在函数中记录多个损失函数的计算图，并返回\n",
    "# 通过优化器，实现反向传播和参数更新\n",
    "optimizer = torch.optim.LBFGS([parameter])"
   ]
  },
  {
   "cell_type": "code",
   "execution_count": 16,
   "metadata": {
    "ExecuteTime": {
     "end_time": "2020-09-07T04:09:27.078905Z",
     "start_time": "2020-09-07T04:07:45.172278Z"
    },
    "colab": {
     "base_uri": "https://localhost:8080/",
     "height": 125
    },
    "colab_type": "code",
    "id": "Cfn-wkitueTB",
    "outputId": "c222dd07-e288-4fbe-d856-45668b328291"
   },
   "outputs": [
    {
     "name": "stdout",
     "output_type": "stream",
     "text": [
      "Epoch:[50]  Style Loss:0.762888  Content Loss:0.222426\n",
      "Epoch:[100]  Style Loss:0.194673  Content Loss:0.022245\n",
      "Epoch:[150]  Style Loss:0.039755  Content Loss:0.009413\n",
      "Epoch:[200]  Style Loss:0.017350  Content Loss:0.003220\n",
      "Epoch:[250]  Style Loss:0.009732  Content Loss:0.001658\n",
      "Epoch:[300]  Style Loss:0.006569  Content Loss:0.001040\n",
      "Epoch:[350]  Style Loss:0.004555  Content Loss:0.000647\n",
      "Epoch:[400]  Style Loss:0.003578  Content Loss:0.000447\n",
      "Epoch:[450]  Style Loss:0.002913  Content Loss:0.000324\n",
      "Epoch:[500]  Style Loss:0.002368  Content Loss:0.000255\n",
      "Epoch:[550]  Style Loss:0.001942  Content Loss:0.000201\n",
      "Epoch:[600]  Style Loss:0.001631  Content Loss:0.000158\n",
      "Epoch:[650]  Style Loss:0.001390  Content Loss:0.000128\n",
      "Epoch:[700]  Style Loss:0.001189  Content Loss:0.000112\n",
      "Epoch:[750]  Style Loss:0.001011  Content Loss:0.000096\n",
      "Epoch:[800]  Style Loss:0.000867  Content Loss:0.000082\n",
      "Epoch:[850]  Style Loss:0.000747  Content Loss:0.000071\n",
      "Epoch:[900]  Style Loss:0.000646  Content Loss:0.000063\n",
      "Epoch:[950]  Style Loss:0.000560  Content Loss:0.000054\n",
      "Epoch:[1000]  Style Loss:0.000490  Content Loss:0.000048\n"
     ]
    }
   ],
   "source": [
    "epoch_n = 1000\n",
    "epoch = [0]\n",
    "while epoch[0] <= epoch_n:\n",
    "  def closure():\n",
    "    # 初始化梯度\n",
    "    optimizer.zero_grad()\n",
    "    style_score = 0\n",
    "    content_score = 0\n",
    "    # 将图片的数值（0~255）压缩至0~1\n",
    "    parameter.data.clamp_(0,1)\n",
    "    # 训练模型\n",
    "    new_model(parameter)\n",
    "    # 累加风格损失函数和内容损失函数的反向传播值\n",
    "    for sl in style_losses:\n",
    "      style_score += sl.backward()\n",
    "    for cl in content_losses:\n",
    "      content_score += sl.backward()\n",
    "    epoch[0] += 1\n",
    "    if epoch[0] % 50 == 0:\n",
    "      print(\"Epoch:{}  Style Loss:{:4f}  Content Loss:{:4f}\".format(epoch,style_score.item(),content_score.item()))\n",
    "    return style_score + content_score\n",
    "  optimizer.step(closure)"
   ]
  },
  {
   "cell_type": "markdown",
   "metadata": {},
   "source": [
    "# 展示成果"
   ]
  },
  {
   "cell_type": "code",
   "execution_count": 17,
   "metadata": {
    "ExecuteTime": {
     "end_time": "2020-09-07T04:09:27.921580Z",
     "start_time": "2020-09-07T04:09:27.670251Z"
    },
    "colab": {
     "base_uri": "https://localhost:8080/",
     "height": 287
    },
    "colab_type": "code",
    "id": "nkLdtqqOueKo",
    "outputId": "79a29b43-bce0-4e53-bfcb-fed857905695"
   },
   "outputs": [
    {
     "name": "stderr",
     "output_type": "stream",
     "text": [
      "Clipping input data to the valid range for imshow with RGB data ([0..1] for floats or [0..255] for integers).\n",
      "D:\\Tools\\Anaconda3\\envs\\pytorch\\lib\\site-packages\\torch\\serialization.py:402: UserWarning: Couldn't retrieve source code for container of type Style_loss. It won't be checked for correctness upon loading.\n",
      "  \"type \" + obj.__name__ + \". It won't be checked \"\n",
      "D:\\Tools\\Anaconda3\\envs\\pytorch\\lib\\site-packages\\torch\\serialization.py:402: UserWarning: Couldn't retrieve source code for container of type Gram_matrix. It won't be checked for correctness upon loading.\n",
      "  \"type \" + obj.__name__ + \". It won't be checked \"\n",
      "D:\\Tools\\Anaconda3\\envs\\pytorch\\lib\\site-packages\\torch\\serialization.py:402: UserWarning: Couldn't retrieve source code for container of type Content_loss. It won't be checked for correctness upon loading.\n",
      "  \"type \" + obj.__name__ + \". It won't be checked \"\n"
     ]
    },
    {
     "data": {
      "image/png": "[encoded data removed]",
      "text/plain": [
       "<Figure size 432x288 with 1 Axes>"
      ]
     },
     "metadata": {
      "needs_background": "light"
     },
     "output_type": "display_data"
    }
   ],
   "source": [
    "# 一般样本不可能只有一个，我们需要把他转化成网格输出\n",
    "img = torchvision.utils.make_grid([content_img.squeeze(0),styple_img.squeeze(0),input_img.squeeze(0)])\n",
    "# 其次，如果我们是在GPU上跑完的结果的话，我们需要再把结果带回cpu才能转化成numpy数组\n",
    "# 但是我们通过上面的size可以知道我们的颜色通道宽高是不对劲的，于是我们需要转变他的维度，就是我们的tran\n",
    "img = img.cpu().numpy().transpose(1,2,0)\n",
    "plt.imshow(img)\n",
    "plt.savefig(\"./output/\"+content_name)\n",
    "torch.save(new_model,\"./model/style-0.00007-content-0.000006.pth\")"
   ]
  }
 ],
 "metadata": {
  "accelerator": "GPU",
  "colab": {
   "collapsed_sections": [],
   "name": "风格迁移(内含图像处理方法（矩阵转图片），(图片转矩阵）).ipynb",
   "provenance": []
  },
  "kernelspec": {
   "display_name": "pytorch",
   "language": "python",
   "name": "pytorch"
  },
  "language_info": {
   "codemirror_mode": {
    "name": "ipython",
    "version": 3
   },
   "file_extension": ".py",
   "mimetype": "text/x-python",
   "name": "python",
   "nbconvert_exporter": "python",
   "pygments_lexer": "ipython3",
   "version": "3.7.8"
  },
  "toc": {
   "base_numbering": 1,
   "nav_menu": {},
   "number_sections": true,
   "sideBar": true,
   "skip_h1_title": false,
   "title_cell": "Table of Contents",
   "title_sidebar": "Contents",
   "toc_cell": false,
   "toc_position": {},
   "toc_section_display": true,
   "toc_window_display": false
  },
  "varInspector": {
   "cols": {
    "lenName": 16,
    "lenType": 16,
    "lenVar": 40
   },
   "kernels_config": {
    "python": {
     "delete_cmd_postfix": "",
     "delete_cmd_prefix": "del ",
     "library": "var_list.py",
     "varRefreshCmd": "print(var_dic_list())"
    },
    "r": {
     "delete_cmd_postfix": ") ",
     "delete_cmd_prefix": "rm(",
     "library": "var_list.r",
     "varRefreshCmd": "cat(var_dic_list()) "
    }
   },
   "types_to_exclude": [
    "module",
    "function",
    "builtin_function_or_method",
    "instance",
    "_Feature"
   ],
   "window_display": false
  },
  "widgets": {
   "application/vnd.jupyter.widget-state+json": {
    "032d72fcacaa4808b953bd85dae65a90": {
     "model_module": "@jupyter-widgets/base",
     "model_name": "LayoutModel",
     "state": {
      "_model_module": "@jupyter-widgets/base",
      "_model_module_version": "1.2.0",
      "_model_name": "LayoutModel",
      "_view_count": null,
      "_view_module": "@jupyter-widgets/base",
      "_view_module_version": "1.2.0",
      "_view_name": "LayoutView",
      "align_content": null,
      "align_items": null,
      "align_self": null,
      "border": null,
      "bottom": null,
      "display": null,
      "flex": null,
      "flex_flow": null,
      "grid_area": null,
      "grid_auto_columns": null,
      "grid_auto_flow": null,
      "grid_auto_rows": null,
      "grid_column": null,
      "grid_gap": null,
      "grid_row": null,
      "grid_template_areas": null,
      "grid_template_columns": null,
      "grid_template_rows": null,
      "height": null,
      "justify_content": null,
      "justify_items": null,
      "left": null,
      "margin": null,
      "max_height": null,
      "max_width": null,
      "min_height": null,
      "min_width": null,
      "object_fit": null,
      "object_position": null,
      "order": null,
      "overflow": null,
      "overflow_x": null,
      "overflow_y": null,
      "padding": null,
      "right": null,
      "top": null,
      "visibility": null,
      "width": null
     }
    },
    "5f52ed3c438d4dc0917f3ac95595bb7a": {
     "model_module": "@jupyter-widgets/base",
     "model_name": "LayoutModel",
     "state": {
      "_model_module": "@jupyter-widgets/base",
      "_model_module_version": "1.2.0",
      "_model_name": "LayoutModel",
      "_view_count": null,
      "_view_module": "@jupyter-widgets/base",
      "_view_module_version": "1.2.0",
      "_view_name": "LayoutView",
      "align_content": null,
      "align_items": null,
      "align_self": null,
      "border": null,
      "bottom": null,
      "display": null,
      "flex": null,
      "flex_flow": null,
      "grid_area": null,
      "grid_auto_columns": null,
      "grid_auto_flow": null,
      "grid_auto_rows": null,
      "grid_column": null,
      "grid_gap": null,
      "grid_row": null,
      "grid_template_areas": null,
      "grid_template_columns": null,
      "grid_template_rows": null,
      "height": null,
      "justify_content": null,
      "justify_items": null,
      "left": null,
      "margin": null,
      "max_height": null,
      "max_width": null,
      "min_height": null,
      "min_width": null,
      "object_fit": null,
      "object_position": null,
      "order": null,
      "overflow": null,
      "overflow_x": null,
      "overflow_y": null,
      "padding": null,
      "right": null,
      "top": null,
      "visibility": null,
      "width": null
     }
    },
    "6002eea3297e4f3399cbbcdb5ef18bbc": {
     "model_module": "@jupyter-widgets/controls",
     "model_name": "HTMLModel",
     "state": {
      "_dom_classes": [],
      "_model_module": "@jupyter-widgets/controls",
      "_model_module_version": "1.5.0",
      "_model_name": "HTMLModel",
      "_view_count": null,
      "_view_module": "@jupyter-widgets/controls",
      "_view_module_version": "1.5.0",
      "_view_name": "HTMLView",
      "description": "",
      "description_tooltip": null,
      "layout": "IPY_MODEL_5f52ed3c438d4dc0917f3ac95595bb7a",
      "placeholder": "​",
      "style": "IPY_MODEL_faac7ec2b6bd464c9492c7b8064acc22",
      "value": " 528M/528M [00:32&lt;00:00, 17.0MB/s]"
     }
    },
    "7fc9a7348f544940b08a24b1ba9d1ccf": {
     "model_module": "@jupyter-widgets/base",
     "model_name": "LayoutModel",
     "state": {
      "_model_module": "@jupyter-widgets/base",
      "_model_module_version": "1.2.0",
      "_model_name": "LayoutModel",
      "_view_count": null,
      "_view_module": "@jupyter-widgets/base",
      "_view_module_version": "1.2.0",
      "_view_name": "LayoutView",
      "align_content": null,
      "align_items": null,
      "align_self": null,
      "border": null,
      "bottom": null,
      "display": null,
      "flex": null,
      "flex_flow": null,
      "grid_area": null,
      "grid_auto_columns": null,
      "grid_auto_flow": null,
      "grid_auto_rows": null,
      "grid_column": null,
      "grid_gap": null,
      "grid_row": null,
      "grid_template_areas": null,
      "grid_template_columns": null,
      "grid_template_rows": null,
      "height": null,
      "justify_content": null,
      "justify_items": null,
      "left": null,
      "margin": null,
      "max_height": null,
      "max_width": null,
      "min_height": null,
      "min_width": null,
      "object_fit": null,
      "object_position": null,
      "order": null,
      "overflow": null,
      "overflow_x": null,
      "overflow_y": null,
      "padding": null,
      "right": null,
      "top": null,
      "visibility": null,
      "width": null
     }
    },
    "8c47f46b4eb2485b9e40128d9926bbba": {
     "model_module": "@jupyter-widgets/controls",
     "model_name": "ProgressStyleModel",
     "state": {
      "_model_module": "@jupyter-widgets/controls",
      "_model_module_version": "1.5.0",
      "_model_name": "ProgressStyleModel",
      "_view_count": null,
      "_view_module": "@jupyter-widgets/base",
      "_view_module_version": "1.2.0",
      "_view_name": "StyleView",
      "bar_color": null,
      "description_width": "initial"
     }
    },
    "9f88fe92388d4c20a8bc04ad3cf7e924": {
     "model_module": "@jupyter-widgets/controls",
     "model_name": "HBoxModel",
     "state": {
      "_dom_classes": [],
      "_model_module": "@jupyter-widgets/controls",
      "_model_module_version": "1.5.0",
      "_model_name": "HBoxModel",
      "_view_count": null,
      "_view_module": "@jupyter-widgets/controls",
      "_view_module_version": "1.5.0",
      "_view_name": "HBoxView",
      "box_style": "",
      "children": [
       "IPY_MODEL_e1de2be4586b45c4a4eb89d8db5add64",
       "IPY_MODEL_6002eea3297e4f3399cbbcdb5ef18bbc"
      ],
      "layout": "IPY_MODEL_7fc9a7348f544940b08a24b1ba9d1ccf"
     }
    },
    "e1de2be4586b45c4a4eb89d8db5add64": {
     "model_module": "@jupyter-widgets/controls",
     "model_name": "FloatProgressModel",
     "state": {
      "_dom_classes": [],
      "_model_module": "@jupyter-widgets/controls",
      "_model_module_version": "1.5.0",
      "_model_name": "FloatProgressModel",
      "_view_count": null,
      "_view_module": "@jupyter-widgets/controls",
      "_view_module_version": "1.5.0",
      "_view_name": "ProgressView",
      "bar_style": "success",
      "description": "100%",
      "description_tooltip": null,
      "layout": "IPY_MODEL_032d72fcacaa4808b953bd85dae65a90",
      "max": 553433881,
      "min": 0,
      "orientation": "horizontal",
      "style": "IPY_MODEL_8c47f46b4eb2485b9e40128d9926bbba",
      "value": 553433881
     }
    },
    "faac7ec2b6bd464c9492c7b8064acc22": {
     "model_module": "@jupyter-widgets/controls",
     "model_name": "DescriptionStyleModel",
     "state": {
      "_model_module": "@jupyter-widgets/controls",
      "_model_module_version": "1.5.0",
      "_model_name": "DescriptionStyleModel",
      "_view_count": null,
      "_view_module": "@jupyter-widgets/base",
      "_view_module_version": "1.2.0",
      "_view_name": "StyleView",
      "description_width": ""
     }
    }
   }
  }
 },
 "nbformat": 4,
 "nbformat_minor": 1
}
